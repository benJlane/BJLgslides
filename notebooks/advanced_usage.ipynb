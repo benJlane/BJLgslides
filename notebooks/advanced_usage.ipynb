{
 "cells": [
  {
   "cell_type": "markdown",
   "metadata": {},
   "source": [
    "# `gslides` Advanced Usage\n",
    "\n",
    "This notebook will walk you through more detailed usage of the package. While this notebook covers mostly all of the advanced features, for more comprehensive documentation checkout the [API Reference](https://michael-gracie.github.io/gslides/modules.html)."
   ]
  },
  {
   "cell_type": "markdown",
   "metadata": {},
   "source": [
    "## Table of Contents\n",
    "\n",
    "* [Initializing Credentials](#initializing_credentials)\n",
    "* [Setup](#setup)\n",
    "* [Styling Setup](#styling_setup)\n",
    "* [Series Options](#series_options)\n",
    "    * [Line](#series_options_line)\n",
    "    * [Column](#series_options_column)\n",
    "    * [Area](#series_options_area)\n",
    "    * [Scatter](#series_options_scatter)\n",
    "    * [Histogram](#series_options_histogram)\n",
    "    * [Combo](#series_options_combo)\n",
    "* [Chart Styling](#chart_styling)\n",
    "    * [Data Labels](#data_labels)\n",
    "    * [Size & Shape](#size_shape)\n",
    "    * [Axis Formatting](#axis_formatting)\n",
    "    * [Series Order](#series_order)\n",
    "    * [Series Overrides](#series_overrides)\n",
    "* [Layout](#layout)\n",
    "* [Table](#table)\n",
    "* [Ancillary_Features](#ancillary_features)\n",
    "    * [Templating](#templating)\n",
    "    * [Update Charts](#update_charts)"
   ]
  },
  {
   "cell_type": "code",
   "execution_count": 1,
   "metadata": {},
   "outputs": [],
   "source": [
    "import os.path\n",
    "from googleapiclient.discovery import build\n",
    "from google_auth_oauthlib.flow import InstalledAppFlow\n",
    "from google.auth.transport.requests import Request\n",
    "from google.oauth2.credentials import Credentials"
   ]
  },
  {
   "cell_type": "markdown",
   "metadata": {},
   "source": [
    "## Initializing Credentials <a class=\"anchor\" id=\"initializing_credentials\"></a>\n",
    "\n",
    "This is the initialization using OAuth 2.0."
   ]
  },
  {
   "cell_type": "code",
   "execution_count": 2,
   "metadata": {},
   "outputs": [],
   "source": [
    "# If modifying these scopes, delete the file token.json.\n",
    "SCOPES = ['https://www.googleapis.com/auth/presentations',\n",
    "         'https://www.googleapis.com/auth/spreadsheets']\n",
    "\n",
    "creds = None\n",
    "# The file token.json stores the user's access and refresh tokens, and is\n",
    "# created automatically when the authorization flow completes for the first\n",
    "# time.\n",
    "if os.path.exists('token.json'):\n",
    "    creds = Credentials.from_authorized_user_file('token.json', SCOPES)\n",
    "# If there are no (valid) credentials available, let the user log in.\n",
    "if not creds or not creds.valid:\n",
    "    if creds and creds.expired and creds.refresh_token:\n",
    "        creds.refresh(Request())\n",
    "    else:\n",
    "        flow = InstalledAppFlow.from_client_secrets_file(\n",
    "            '<PATH_TO_CREDS>', SCOPES)\n",
    "        creds = flow.run_local_server()\n",
    "    # Save the credentials for the next run\n",
    "    with open('token.json', 'w') as token:\n",
    "        token.write(creds.to_json())"
   ]
  },
  {
   "cell_type": "markdown",
   "metadata": {},
   "source": [
    "## Setup <a class=\"anchor\" id=\"setup\"></a>"
   ]
  },
  {
   "cell_type": "code",
   "execution_count": 3,
   "metadata": {},
   "outputs": [],
   "source": [
    "import gslides\n",
    "from gslides import (\n",
    "    Frame,\n",
    "    Presentation,\n",
    "    Spreadsheet,\n",
    "    Table,\n",
    "    Series, Chart\n",
    ")\n",
    "import pandas as pd\n",
    "gslides.intialize_credentials(creds) #BringYourOwnCredentials"
   ]
  },
  {
   "cell_type": "code",
   "execution_count": 4,
   "metadata": {},
   "outputs": [],
   "source": [
    "prs = Presentation.create(name = 'demo pres')"
   ]
  },
  {
   "cell_type": "code",
   "execution_count": 5,
   "metadata": {},
   "outputs": [],
   "source": [
    "spr = Spreadsheet.create(\n",
    "    title = 'demo spreadsheet',\n",
    "    sheet_names = ['demo sheet']\n",
    ")"
   ]
  },
  {
   "cell_type": "code",
   "execution_count": 44,
   "metadata": {},
   "outputs": [],
   "source": [
    "df = pd.read_csv('time_series.csv')"
   ]
  },
  {
   "cell_type": "code",
   "execution_count": 46,
   "metadata": {},
   "outputs": [
    {
     "data": {
      "text/html": [
       "<div>\n",
       "<style scoped>\n",
       "    .dataframe tbody tr th:only-of-type {\n",
       "        vertical-align: middle;\n",
       "    }\n",
       "\n",
       "    .dataframe tbody tr th {\n",
       "        vertical-align: top;\n",
       "    }\n",
       "\n",
       "    .dataframe thead th {\n",
       "        text-align: right;\n",
       "    }\n",
       "</style>\n",
       "<table border=\"1\" class=\"dataframe\">\n",
       "  <thead>\n",
       "    <tr style=\"text-align: right;\">\n",
       "      <th></th>\n",
       "      <th>date</th>\n",
       "      <th>Ball</th>\n",
       "      <th>Chalk</th>\n",
       "      <th>Figurine</th>\n",
       "    </tr>\n",
       "  </thead>\n",
       "  <tbody>\n",
       "    <tr>\n",
       "      <th>0</th>\n",
       "      <td>2018-01-01</td>\n",
       "      <td>10</td>\n",
       "      <td>15</td>\n",
       "      <td>13</td>\n",
       "    </tr>\n",
       "    <tr>\n",
       "      <th>1</th>\n",
       "      <td>2019-01-01</td>\n",
       "      <td>12</td>\n",
       "      <td>13</td>\n",
       "      <td>13</td>\n",
       "    </tr>\n",
       "    <tr>\n",
       "      <th>2</th>\n",
       "      <td>2020-01-01</td>\n",
       "      <td>14</td>\n",
       "      <td>11</td>\n",
       "      <td>13</td>\n",
       "    </tr>\n",
       "    <tr>\n",
       "      <th>3</th>\n",
       "      <td>2021-01-01</td>\n",
       "      <td>16</td>\n",
       "      <td>9</td>\n",
       "      <td>13</td>\n",
       "    </tr>\n",
       "  </tbody>\n",
       "</table>\n",
       "</div>"
      ],
      "text/plain": [
       "         date  Ball  Chalk  Figurine\n",
       "0  2018-01-01    10     15        13\n",
       "1  2019-01-01    12     13        13\n",
       "2  2020-01-01    14     11        13\n",
       "3  2021-01-01    16      9        13"
      ]
     },
     "execution_count": 46,
     "metadata": {},
     "output_type": "execute_result"
    }
   ],
   "source": [
    "df"
   ]
  },
  {
   "cell_type": "code",
   "execution_count": 45,
   "metadata": {},
   "outputs": [],
   "source": [
    "frame = Frame.create(df = df,\n",
    "          spreadsheet_id = spr.spreadsheet_id,\n",
    "          sheet_id = spr.sheet_names['demo sheet'],\n",
    "          sheet_name = 'demo sheet',\n",
    "          overwrite_data = True\n",
    ")"
   ]
  },
  {
   "cell_type": "markdown",
   "metadata": {},
   "source": [
    "## Styling Setup <a class=\"anchor\" id=\"styling_setup\"></a>"
   ]
  },
  {
   "cell_type": "code",
   "execution_count": 90,
   "metadata": {},
   "outputs": [],
   "source": [
    "ch = Chart(\n",
    "    data = frame.data,\n",
    "    x_axis_column = 'date',\n",
    "    series = [Series.line()],\n",
    "    title = 'Toys By Type',\n",
    "    x_axis_label = 'Month',\n",
    "    legend_position = 'RIGHT_LEGEND',\n",
    "    y_min = 0\n",
    ")\n",
    "prs.add_slide(\n",
    "    objects = [ch],\n",
    "    layout = (1,1),\n",
    "    title = 'Regular'\n",
    ")"
   ]
  },
  {
   "cell_type": "code",
   "execution_count": 91,
   "metadata": {},
   "outputs": [],
   "source": [
    "prs.add_slide(\n",
    "    objects = [ch],\n",
    "    layout = (1,1),\n",
    "    title = 'Regular'\n",
    ")"
   ]
  },
  {
   "cell_type": "code",
   "execution_count": 92,
   "metadata": {},
   "outputs": [],
   "source": [
    "# Setting styling\n",
    "gslides.set_font('Work Sans')\n",
    "gslides.set_palette('prodigy')"
   ]
  },
  {
   "cell_type": "code",
   "execution_count": 93,
   "metadata": {},
   "outputs": [],
   "source": [
    "ch = Chart(\n",
    "    data = frame.data,\n",
    "    x_axis_column = 'date',\n",
    "    series = [Series.line()],\n",
    "    title = 'Toys By Type',\n",
    "    x_axis_label = 'Month',\n",
    "    legend_position = 'RIGHT_LEGEND',\n",
    "    y_min = 0\n",
    ")\n",
    "prs.add_slide(\n",
    "    objects = [ch],\n",
    "    layout = (1,1),\n",
    "    title = 'Styled'\n",
    ")"
   ]
  },
  {
   "cell_type": "markdown",
   "metadata": {},
   "source": [
    "![pic](img/regular.png)\n",
    "![pic](img/styled.png)"
   ]
  },
  {
   "cell_type": "markdown",
   "metadata": {},
   "source": [
    "## Series Options <a class=\"anchor\" id=\"series_options\"></a>\n",
    "\n",
    "There are 5 options for types of series\n",
    "\n",
    "- Line\n",
    "- Column\n",
    "- Area\n",
    "- Scatter\n",
    "- Histogram\n",
    "\n",
    "Each of these can be set through using the `Series.<type>` initialization method. \n",
    "\n",
    "There is the option to create a combo plot when you pass multiples series types in the `series` parameter of your `Chart` object."
   ]
  },
  {
   "cell_type": "markdown",
   "metadata": {},
   "source": [
    "### Line <a class=\"anchor\" id=\"series_options_line\"></a>"
   ]
  },
  {
   "cell_type": "code",
   "execution_count": 63,
   "metadata": {},
   "outputs": [],
   "source": [
    "ch = Chart(\n",
    "    data = frame.data,\n",
    "    x_axis_column = 'date',\n",
    "    series = [Series.line()], #by not specifying columns for your series the module simply take all non x-axis columns\n",
    "    title = 'Toys By Type',\n",
    "    x_axis_label = 'Month',\n",
    "    legend_position = 'RIGHT_LEGEND',\n",
    "    y_min = 0\n",
    ")\n",
    "prs.add_slide(\n",
    "    objects = [ch],\n",
    "    layout = (1,1),\n",
    "    title = 'Line'\n",
    ")"
   ]
  },
  {
   "cell_type": "markdown",
   "metadata": {},
   "source": [
    "![pic](img/line.png)\n"
   ]
  },
  {
   "cell_type": "markdown",
   "metadata": {},
   "source": [
    "### Column <a class=\"anchor\" id=\"series_options_column\"></a>"
   ]
  },
  {
   "cell_type": "code",
   "execution_count": 64,
   "metadata": {},
   "outputs": [],
   "source": [
    "ch = Chart(\n",
    "    data = frame.data,\n",
    "    x_axis_column = 'date',\n",
    "    series = [Series.column()],\n",
    "    title = 'Toys By Type',\n",
    "    x_axis_label = 'Month',\n",
    "    legend_position = 'RIGHT_LEGEND',\n",
    "    y_min = 0\n",
    ")\n",
    "prs.add_slide(\n",
    "    objects = [ch],\n",
    "    layout = (1,1),\n",
    "    title = 'Column'\n",
    ")"
   ]
  },
  {
   "cell_type": "markdown",
   "metadata": {},
   "source": [
    "![pic](img/column.png)"
   ]
  },
  {
   "cell_type": "markdown",
   "metadata": {},
   "source": [
    "#### Column Stacking <a class=\"anchor\" id=\"stacking\"></a>\n",
    "\n",
    "Stacking can also be used for both `Column` and `Area` plots"
   ]
  },
  {
   "cell_type": "code",
   "execution_count": 65,
   "metadata": {},
   "outputs": [],
   "source": [
    "ch_stacked = Chart(\n",
    "    data = frame.data,\n",
    "    x_axis_column = 'date',\n",
    "    series = [Series.column()],\n",
    "    title = 'Toys By Type',\n",
    "    x_axis_label = 'Month',\n",
    "    legend_position = 'RIGHT_LEGEND',\n",
    "    y_min = 0,\n",
    "    stacking = 'STACKED'\n",
    ")"
   ]
  },
  {
   "cell_type": "code",
   "execution_count": 66,
   "metadata": {},
   "outputs": [],
   "source": [
    "ch_percent = Chart(\n",
    "    data = frame.data,\n",
    "    x_axis_column = 'date',\n",
    "    series = [Series.column()],\n",
    "    title = 'Toys By Type',\n",
    "    x_axis_label = 'Month',\n",
    "    y_axis_label = '% of Total',\n",
    "    legend_position = 'RIGHT_LEGEND',\n",
    "    y_min = 0,\n",
    "    y_max = 1,\n",
    "    stacking = 'PERCENT_STACKED'\n",
    ")"
   ]
  },
  {
   "cell_type": "code",
   "execution_count": 67,
   "metadata": {},
   "outputs": [],
   "source": [
    "prs.add_slide(\n",
    "    objects = [ch_stacked, ch_percent],\n",
    "    layout = (1,2),\n",
    "    title = 'Stacking Options'\n",
    ")"
   ]
  },
  {
   "cell_type": "markdown",
   "metadata": {},
   "source": [
    "![pic](img/stacking_options.png)"
   ]
  },
  {
   "cell_type": "markdown",
   "metadata": {},
   "source": [
    "### Area <a class=\"anchor\" id=\"series_options_area\"></a>"
   ]
  },
  {
   "cell_type": "code",
   "execution_count": 68,
   "metadata": {},
   "outputs": [],
   "source": [
    "ch = Chart(\n",
    "    data = frame.data,\n",
    "    x_axis_column = 'date',\n",
    "    series = [Series.area()],\n",
    "    title = 'Toys By Type',\n",
    "    x_axis_label = 'Month',\n",
    "    legend_position = 'RIGHT_LEGEND',\n",
    "    y_min = 0\n",
    ")\n",
    "prs.add_slide(\n",
    "    objects = [ch],\n",
    "    layout = (1,1),\n",
    "    title = 'Area'\n",
    ")"
   ]
  },
  {
   "cell_type": "markdown",
   "metadata": {},
   "source": [
    "![pic](img/area.png)"
   ]
  },
  {
   "cell_type": "markdown",
   "metadata": {},
   "source": [
    "### Scatter <a class=\"anchor\" id=\"series_options_scatter\"></a>"
   ]
  },
  {
   "cell_type": "code",
   "execution_count": 69,
   "metadata": {},
   "outputs": [],
   "source": [
    "ch = Chart(\n",
    "    data = frame.data,\n",
    "    x_axis_column = 'Chalk',\n",
    "    series = [Series.scatter(series_columns = ['Ball','Figurine'])],\n",
    "    title = 'Chalk By Balls & Figurines',\n",
    "    x_axis_label = 'Chalk',\n",
    "    legend_position = 'RIGHT_LEGEND'\n",
    ")\n",
    "prs.add_slide(\n",
    "    objects = [ch],\n",
    "    layout = (1,1),\n",
    "    title = 'Scatter'\n",
    ")"
   ]
  },
  {
   "cell_type": "markdown",
   "metadata": {},
   "source": [
    "![pic](img/scatter.png)"
   ]
  },
  {
   "cell_type": "markdown",
   "metadata": {},
   "source": [
    "### Histogram <a class=\"anchor\" id=\"series_options_histogram\"></a>\n",
    "\n",
    "Notice that the bucketing is done automatically to Google. You can specify `bucket_size` and `outlier_percentage` to configure the histogram."
   ]
  },
  {
   "cell_type": "code",
   "execution_count": 70,
   "metadata": {},
   "outputs": [],
   "source": [
    "ch = Chart(\n",
    "    data = frame.data,\n",
    "    x_axis_column = 'Chalk',\n",
    "    series = [Series.histogram(series_columns = ['Chalk'])],\n",
    "    title = 'Chalk Histogram',\n",
    "    legend_position = 'RIGHT_LEGEND'\n",
    ")\n",
    "prs.add_slide(\n",
    "    objects = [ch],\n",
    "    layout = (1,1),\n",
    "    title = 'Histogram'\n",
    ")"
   ]
  },
  {
   "cell_type": "markdown",
   "metadata": {},
   "source": [
    "![pic](img/histogram.png)"
   ]
  },
  {
   "cell_type": "markdown",
   "metadata": {},
   "source": [
    "### Combo <a class=\"anchor\" id=\"series_options_combo\"></a>"
   ]
  },
  {
   "cell_type": "code",
   "execution_count": 71,
   "metadata": {},
   "outputs": [],
   "source": [
    "line = Series.line(series_columns = ['Chalk'])\n",
    "column = Series.column(series_columns = ['Ball','Figurine'])\n",
    "ch = Chart(\n",
    "    data = frame.data,\n",
    "    x_axis_column = 'date',\n",
    "    series = [line, column],\n",
    "    title = 'Toys By Type',\n",
    "    x_axis_label = 'Month',\n",
    "    legend_position = 'RIGHT_LEGEND',\n",
    "    y_min = 0\n",
    ")\n",
    "prs.add_slide(\n",
    "    objects = [ch],\n",
    "    layout = (1,1),\n",
    "    title = 'Combo'\n",
    ")"
   ]
  },
  {
   "cell_type": "markdown",
   "metadata": {},
   "source": [
    "![pic](img/combo.png)"
   ]
  },
  {
   "cell_type": "markdown",
   "metadata": {},
   "source": [
    "## Chart Styling <a class=\"anchor\" id=\"chart_styling\"></a>"
   ]
  },
  {
   "cell_type": "markdown",
   "metadata": {},
   "source": [
    "### Data Labels <a class=\"anchor\" id=\"data_labels\"></a>"
   ]
  },
  {
   "cell_type": "code",
   "execution_count": 72,
   "metadata": {},
   "outputs": [],
   "source": [
    "line = Series.line(\n",
    "    data_label_enabled = True,\n",
    "    data_label_placement = 'CENTER'\n",
    ")\n",
    "ch = Chart(\n",
    "    data = frame.data,\n",
    "    x_axis_column = 'date',\n",
    "    series = [line],\n",
    "    title = 'Toys By Type',\n",
    "    x_axis_label = 'Month',\n",
    "    legend_position = 'RIGHT_LEGEND',\n",
    "    y_min = 0,\n",
    ")\n",
    "prs.add_slide(\n",
    "    objects = [ch],\n",
    "    layout = (1,1),\n",
    "    title = 'Data Label'\n",
    ")"
   ]
  },
  {
   "cell_type": "markdown",
   "metadata": {},
   "source": [
    "![pic](img/data_label.png)"
   ]
  },
  {
   "cell_type": "markdown",
   "metadata": {},
   "source": [
    "### Size & Shape <a class=\"anchor\" id=\"size_shape\"></a>\n",
    "\n",
    "Depending on the plot type is possible to change the size of the line, point and the shape/ formatting of the line / point"
   ]
  },
  {
   "cell_type": "code",
   "execution_count": 73,
   "metadata": {},
   "outputs": [],
   "source": [
    "line = Series.line(\n",
    "    line_style = 'LONG_DASHED_DOTTED',\n",
    "    line_width = 5\n",
    ")\n",
    "ch = Chart(\n",
    "    data = frame.data,\n",
    "    x_axis_column = 'date',\n",
    "    series = [line],\n",
    "    title = 'Toys By Type',\n",
    "    x_axis_label = 'Month',\n",
    "    legend_position = 'RIGHT_LEGEND',\n",
    "    y_min = 0,\n",
    ")\n",
    "prs.add_slide(\n",
    "    objects = [ch],\n",
    "    layout = (1,1),\n",
    "    title = 'Size & Shape'\n",
    ")"
   ]
  },
  {
   "cell_type": "markdown",
   "metadata": {},
   "source": [
    "![pic](img/size_shape.png)"
   ]
  },
  {
   "cell_type": "markdown",
   "metadata": {},
   "source": [
    "### Axis Formatting <a class=\"anchor\" id=\"axis_formatting\"></a>"
   ]
  },
  {
   "cell_type": "code",
   "execution_count": 74,
   "metadata": {},
   "outputs": [],
   "source": [
    "ch = Chart(\n",
    "    data = frame.data,\n",
    "    x_axis_column = 'date',\n",
    "    series = [Series.line()],\n",
    "    title = 'Toys By Type',\n",
    "    x_axis_label = 'Month',\n",
    "    legend_position = 'RIGHT_LEGEND',\n",
    "    y_min = 0,\n",
    "    x_axis_format = 'YYYY-MM'\n",
    ")\n",
    "prs.add_slide(\n",
    "    objects = [ch],\n",
    "    layout = (1,1),\n",
    "    title = 'Axis Formatting'\n",
    ")"
   ]
  },
  {
   "cell_type": "markdown",
   "metadata": {},
   "source": [
    "![pic](img/axis_formatting.png)"
   ]
  },
  {
   "cell_type": "markdown",
   "metadata": {},
   "source": [
    "### Series Order <a class=\"anchor\" id=\"series_order\"></a>\n",
    "\n",
    "You can set the order of your series by passing a list to the `series_columns` parameter"
   ]
  },
  {
   "cell_type": "code",
   "execution_count": 76,
   "metadata": {},
   "outputs": [],
   "source": [
    "ch = Chart(\n",
    "    data = frame.data,\n",
    "    x_axis_column = 'date',\n",
    "    series = [Series.line(series_columns = ['Figurine', 'Ball', 'Chalk'])],\n",
    "    title = 'Toys By Type',\n",
    "    x_axis_label = 'Month',\n",
    "    legend_position = 'RIGHT_LEGEND',\n",
    "    y_min = 0,\n",
    ")\n",
    "prs.add_slide(\n",
    "    objects = [ch],\n",
    "    layout = (1,1),\n",
    "    title = 'Series Order'\n",
    ")"
   ]
  },
  {
   "cell_type": "markdown",
   "metadata": {},
   "source": [
    "![pic](img/series_order.png)"
   ]
  },
  {
   "cell_type": "markdown",
   "metadata": {},
   "source": [
    "### Series overrides <a class=\"anchor\" id=\"series_overrides\"></a>\n",
    "\n",
    "By passing multiple series objects in the `series` parameter you can override any previous configuration for a column in a subsequent `Series` object. The example below overrides column, however you can override and series parameter you wish."
   ]
  },
  {
   "cell_type": "code",
   "execution_count": 77,
   "metadata": {},
   "outputs": [],
   "source": [
    "line = Series.line() # regular palette for all columns\n",
    "override = Series.line(series_columns = ['Ball'], color = 'black') # setting the ball line to black\n",
    "ch = Chart(\n",
    "    data = frame.data,\n",
    "    x_axis_column = 'date',\n",
    "    series = [line, override],\n",
    "    title = 'Toys By Type',\n",
    "    x_axis_label = 'Month',\n",
    "    legend_position = 'RIGHT_LEGEND',\n",
    "    y_min = 0,\n",
    ")\n",
    "prs.add_slide(\n",
    "    objects = [ch],\n",
    "    layout = (1,1),\n",
    "    title = 'Series Overrides'\n",
    ")"
   ]
  },
  {
   "cell_type": "markdown",
   "metadata": {},
   "source": [
    "![pic](img/series_overrides.png)"
   ]
  },
  {
   "cell_type": "markdown",
   "metadata": {},
   "source": [
    "## Layout <a class=\"anchor\" id=\"layout\"></a>\n",
    "\n",
    "The layout charts on a slides the user simply needs to pass the numbers of rows and column in the `layout` parameter and the package will place the charts on a grid from left to right. The example below illustrates this:"
   ]
  },
  {
   "cell_type": "code",
   "execution_count": 80,
   "metadata": {},
   "outputs": [],
   "source": [
    "charts = []\n",
    "for i in range(3):\n",
    "    ch = Chart(\n",
    "        data = frame.data,\n",
    "        x_axis_column = 'date',\n",
    "        series = [Series.line()], \n",
    "        title = 'Toys By Type',\n",
    "        x_axis_label = 'Month',\n",
    "        legend_position = 'RIGHT_LEGEND',\n",
    "        y_min = 0\n",
    "    )\n",
    "    charts.append(ch)\n",
    "prs.add_slide(\n",
    "    objects = charts,\n",
    "    layout = (2,2),\n",
    "    title = 'Layout'\n",
    ")"
   ]
  },
  {
   "cell_type": "markdown",
   "metadata": {},
   "source": [
    "![pic](img/layout.png)"
   ]
  },
  {
   "cell_type": "markdown",
   "metadata": {},
   "source": [
    "## Table <a class=\"anchor\" id=\"table\"></a>\n",
    "\n",
    "The table class is quite simple, with a couple of custom configurations."
   ]
  },
  {
   "cell_type": "code",
   "execution_count": 86,
   "metadata": {},
   "outputs": [],
   "source": [
    "tbl = Table(\n",
    "    data = df,\n",
    "    header = True,                            # header row enabled\n",
    "    stub = True,                              # stub (first) column enabled\n",
    "    header_background_color = \"black\",        # color set\n",
    "    stub_background_color= \"black\",           # color set\n",
    "    font_size = 13,                           # custom font size\n",
    "    column_proportions = [0.4, 0.2, 0.2, 0.2] # this is automatically calculated unless set\n",
    ")"
   ]
  },
  {
   "cell_type": "code",
   "execution_count": 87,
   "metadata": {},
   "outputs": [],
   "source": [
    "prs.add_slide(\n",
    "    objects = [tbl],\n",
    "    layout = (1,1),\n",
    "    title = 'Table'\n",
    ")"
   ]
  },
  {
   "cell_type": "markdown",
   "metadata": {},
   "source": [
    "![pic](img/table.png)"
   ]
  },
  {
   "cell_type": "markdown",
   "metadata": {},
   "source": [
    "## Ancillary Features <a class=\"anchor\" id=\"ancillary_features\"></a>"
   ]
  },
  {
   "cell_type": "markdown",
   "metadata": {},
   "source": [
    "### Templating <a class=\"anchor\" id=\"templating\"></a>"
   ]
  },
  {
   "cell_type": "markdown",
   "metadata": {},
   "source": [
    "The `template()` method allows the user to template data into a given presentation. In your presentation create a placeholder for the text that you wish to be templated like so `{{ template_var }}`. Pass a dictionary into the `template()` method with the key `template_var` and value for the text that you would like to inject. The function will replace all instances of that `template_var` with text in the presentation."
   ]
  },
  {
   "cell_type": "code",
   "execution_count": null,
   "metadata": {},
   "outputs": [],
   "source": [
    "prs.template(mapping = {'hello': 'world'})"
   ]
  },
  {
   "cell_type": "markdown",
   "metadata": {},
   "source": [
    "### Update Charts <a class=\"anchor\" id=\"update_charts\"></a>"
   ]
  },
  {
   "cell_type": "markdown",
   "metadata": {},
   "source": [
    "When you modify a chart in google sheets with additional data or update the styling the linked chart in a google slide deck will not update automatically. The ``update_charts()`` method finds all charts in a given presentation and updates them to match the google sheets version. This method is useful if you have an existing chart in a presentation and want to update the data but not recreate the chart. You can update the data in Google Sheets with the ``Frame`` object and then run the ``update_charts()`` method to reflect the new data in your existing chart."
   ]
  },
  {
   "cell_type": "code",
   "execution_count": null,
   "metadata": {},
   "outputs": [],
   "source": [
    "prs.update_charts()"
   ]
  }
 ],
 "metadata": {
  "kernelspec": {
   "display_name": "Python [conda env:prodigy]",
   "language": "python",
   "name": "conda-env-prodigy-py"
  },
  "language_info": {
   "codemirror_mode": {
    "name": "ipython",
    "version": 3
   },
   "file_extension": ".py",
   "mimetype": "text/x-python",
   "name": "python",
   "nbconvert_exporter": "python",
   "pygments_lexer": "ipython3",
   "version": "3.6.13"
  }
 },
 "nbformat": 4,
 "nbformat_minor": 2
}
