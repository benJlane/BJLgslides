{
 "cells": [
  {
   "cell_type": "code",
   "execution_count": 1,
   "metadata": {},
   "outputs": [],
   "source": [
    "import os.path\n",
    "from googleapiclient.discovery import build\n",
    "from google_auth_oauthlib.flow import InstalledAppFlow\n",
    "from google.auth.transport.requests import Request\n",
    "from google.oauth2.credentials import Credentials"
   ]
  },
  {
   "cell_type": "code",
   "execution_count": 2,
   "metadata": {},
   "outputs": [
    {
     "name": "stdout",
     "output_type": "stream",
     "text": [
      "Please visit this URL to authorize this application: https://accounts.google.com/o/oauth2/auth?response_type=code&client_id=816846997775-7jla3ljq0d27nif715g87kqb63thcuvu.apps.googleusercontent.com&redirect_uri=http%3A%2F%2Flocalhost%3A57609%2F&scope=https%3A%2F%2Fwww.googleapis.com%2Fauth%2Fpresentations+https%3A%2F%2Fwww.googleapis.com%2Fauth%2Fspreadsheets&state=sD1wHueBZ3sLQLsmv0cSVlC9tYY7mi&access_type=offline\n"
     ]
    }
   ],
   "source": [
    "# If modifying these scopes, delete the file token.json.\n",
    "SCOPES = ['https://www.googleapis.com/auth/presentations',\n",
    "         'https://www.googleapis.com/auth/spreadsheets']\n",
    "\n",
    "creds = None\n",
    "# The file token.json stores the user's access and refresh tokens, and is\n",
    "# created automatically when the authorization flow completes for the first\n",
    "# time.\n",
    "if os.path.exists('token.json'):\n",
    "    creds = Credentials.from_authorized_user_file('token.json', SCOPES)\n",
    "# If there are no (valid) credentials available, let the user log in.\n",
    "if not creds or not creds.valid:\n",
    "    if creds and creds.expired and creds.refresh_token:\n",
    "        creds.refresh(Request())\n",
    "    else:\n",
    "        flow = InstalledAppFlow.from_client_secrets_file(\n",
    "            '<PATH_TO_CREDS>', SCOPES)\n",
    "        creds = flow.run_local_server(port=<PORT>)\n",
    "    # Save the credentials for the next run\n",
    "    with open('token.json', 'w') as token:\n",
    "        token.write(creds.to_json())"
   ]
  },
  {
   "cell_type": "code",
   "execution_count": 12,
   "metadata": {},
   "outputs": [],
   "source": [
    "import gslides\n",
    "from gslides import (\n",
    "    CreatePresentation,\n",
    "    CreateSpreadsheet,\n",
    "    CreateFrame,\n",
    "    Scatter,\n",
    "    Chart,\n",
    "    CreateSlide\n",
    ")\n",
    "from sklearn import datasets\n",
    "gslides.intialize_credentials(creds) #BringYourOwnCredentials"
   ]
  },
  {
   "cell_type": "code",
   "execution_count": 5,
   "metadata": {},
   "outputs": [],
   "source": [
    "prs = CreatePresentation(name = 'demo pres')\n",
    "prs.execute()"
   ]
  },
  {
   "cell_type": "code",
   "execution_count": 6,
   "metadata": {},
   "outputs": [],
   "source": [
    "spreadsheet = CreateSpreadsheet(\n",
    "    title = 'demo spreadsheet',\n",
    "    sheet_name = 'demo sheet'\n",
    ")\n",
    "spreadsheet.execute()"
   ]
  },
  {
   "cell_type": "code",
   "execution_count": 8,
   "metadata": {},
   "outputs": [],
   "source": [
    "iris = datasets.load_iris(as_frame = True)['data']\n",
    "frame = CreateFrame(df = iris,\n",
    "          spreadsheet_id = spreadsheet.spreadsheet_id,\n",
    "          sheet_id = spreadsheet.sheet_id,\n",
    "          overwrite_data = True\n",
    ")\n",
    "frame.execute()"
   ]
  },
  {
   "cell_type": "code",
   "execution_count": 14,
   "metadata": {},
   "outputs": [],
   "source": [
    "sc = Scatter(y_columns = ['sepal width (cm)'])\n",
    "ch = Chart(\n",
    "    data = frame.data,\n",
    "    x_column = 'sepal length (cm)',\n",
    "    series = [sc],\n",
    "    title = f'Demo Chart',\n",
    "    x_axis_label = 'Sepal Length',\n",
    "    y_axis_label = 'Sepal Width',\n",
    "    legend_position = 'NO_LEGEND',\n",
    ")"
   ]
  },
  {
   "cell_type": "code",
   "execution_count": 16,
   "metadata": {},
   "outputs": [],
   "source": [
    "sld = CreateSlide(\n",
    "  presentation_id = prs.presentation_id,\n",
    "  charts = [ch],\n",
    "  layout = (1,1),\n",
    "  title = \"Investigation into Fischer's Iris dataset\",\n",
    "  notes = \"Data from 1936\"\n",
    ")\n",
    "sld.execute()"
   ]
  }
 ],
 "metadata": {
  "kernelspec": {
   "display_name": "Python [conda env:prodigy]",
   "language": "python",
   "name": "conda-env-prodigy-py"
  },
  "language_info": {
   "codemirror_mode": {
    "name": "ipython",
    "version": 3
   },
   "file_extension": ".py",
   "mimetype": "text/x-python",
   "name": "python",
   "nbconvert_exporter": "python",
   "pygments_lexer": "ipython3",
   "version": "3.6.13"
  }
 },
 "nbformat": 4,
 "nbformat_minor": 2
}
